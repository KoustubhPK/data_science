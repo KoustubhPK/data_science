{
 "cells": [
  {
   "cell_type": "markdown",
   "id": "e4b949d4",
   "metadata": {},
   "source": [
    "# Functions\n",
    "- In python, there are two types of function.\n",
    "    - Built-in funtions\n",
    "    - User defined function\n",
    "- We can create our own customized functions in python for code reusability."
   ]
  },
  {
   "cell_type": "code",
   "execution_count": null,
   "id": "c03cfde8",
   "metadata": {
    "ExecuteTime": {
     "end_time": "2023-08-02T06:31:50.216813Z",
     "start_time": "2023-08-02T06:31:50.200988Z"
    }
   },
   "outputs": [],
   "source": [
    "#Basic Function"
   ]
  },
  {
   "cell_type": "code",
   "execution_count": 5,
   "id": "44fe4a3f",
   "metadata": {
    "ExecuteTime": {
     "end_time": "2023-08-02T06:31:50.248545Z",
     "start_time": "2023-08-02T06:31:50.221892Z"
    }
   },
   "outputs": [
    {
     "name": "stdout",
     "output_type": "stream",
     "text": [
      "This is second sentence\n"
     ]
    }
   ],
   "source": [
    "def simple_function():\n",
    "    print('This is user defined function')\n",
    "print('This is second sentence')"
   ]
  },
  {
   "cell_type": "code",
   "execution_count": 9,
   "id": "77be4f62",
   "metadata": {
    "ExecuteTime": {
     "end_time": "2023-08-02T06:31:50.263688Z",
     "start_time": "2023-08-02T06:31:50.252535Z"
    }
   },
   "outputs": [
    {
     "name": "stdout",
     "output_type": "stream",
     "text": [
      "This is user defined function\n"
     ]
    }
   ],
   "source": [
    "simple_function()"
   ]
  },
  {
   "cell_type": "code",
   "execution_count": null,
   "id": "ed99c826-ee8c-4d51-be19-240e34796b34",
   "metadata": {},
   "outputs": [],
   "source": [
    "len()"
   ]
  },
  {
   "cell_type": "code",
   "execution_count": null,
   "id": "c96b8c93",
   "metadata": {
    "ExecuteTime": {
     "end_time": "2023-08-02T06:31:50.279552Z",
     "start_time": "2023-08-02T06:31:50.267699Z"
    }
   },
   "outputs": [],
   "source": [
    "#Docstring"
   ]
  },
  {
   "cell_type": "code",
   "execution_count": 11,
   "id": "0dc05348",
   "metadata": {
    "ExecuteTime": {
     "end_time": "2023-08-02T06:31:50.295215Z",
     "start_time": "2023-08-02T06:31:50.285100Z"
    }
   },
   "outputs": [],
   "source": [
    "def function1():\n",
    "    '''This function will print 2 sentences.'''\n",
    "    print('This is first sentence')\n",
    "    print('This is second sentence')"
   ]
  },
  {
   "cell_type": "code",
   "execution_count": 13,
   "id": "b2186e4f",
   "metadata": {
    "ExecuteTime": {
     "end_time": "2023-08-02T06:31:50.311141Z",
     "start_time": "2023-08-02T06:31:50.297607Z"
    }
   },
   "outputs": [
    {
     "name": "stdout",
     "output_type": "stream",
     "text": [
      "This is first sentence\n",
      "This is second sentence\n"
     ]
    }
   ],
   "source": [
    "function1()"
   ]
  },
  {
   "cell_type": "code",
   "execution_count": 15,
   "id": "116785d1-cffa-4520-a011-f2e5c121c5ae",
   "metadata": {},
   "outputs": [],
   "source": [
    "def add():\n",
    "    print(75+95)"
   ]
  },
  {
   "cell_type": "code",
   "execution_count": 17,
   "id": "dccac039-0f29-4162-8d67-1019cb4a259c",
   "metadata": {},
   "outputs": [
    {
     "name": "stdout",
     "output_type": "stream",
     "text": [
      "170\n"
     ]
    }
   ],
   "source": [
    "add()"
   ]
  },
  {
   "cell_type": "code",
   "execution_count": 21,
   "id": "b41d41ac-7425-4af6-a46e-913ca5ec0763",
   "metadata": {},
   "outputs": [
    {
     "ename": "TypeError",
     "evalue": "add() takes 0 positional arguments but 2 were given",
     "output_type": "error",
     "traceback": [
      "\u001b[1;31m---------------------------------------------------------------------------\u001b[0m",
      "\u001b[1;31mTypeError\u001b[0m                                 Traceback (most recent call last)",
      "Cell \u001b[1;32mIn[21], line 1\u001b[0m\n\u001b[1;32m----> 1\u001b[0m add(\u001b[38;5;241m54\u001b[39m,\u001b[38;5;241m9568\u001b[39m)\n",
      "\u001b[1;31mTypeError\u001b[0m: add() takes 0 positional arguments but 2 were given"
     ]
    }
   ],
   "source": [
    "add(54,9568)"
   ]
  },
  {
   "cell_type": "code",
   "execution_count": 23,
   "id": "6ecb899e-14d1-473e-9365-faebe3098c44",
   "metadata": {},
   "outputs": [],
   "source": [
    "def add(num1,num2):\n",
    "    print(num1+num2)"
   ]
  },
  {
   "cell_type": "code",
   "execution_count": 29,
   "id": "bfd8d6ab-183d-4327-b311-76306cb37675",
   "metadata": {},
   "outputs": [
    {
     "name": "stdout",
     "output_type": "stream",
     "text": [
      "132011\n"
     ]
    }
   ],
   "source": [
    "add(74455,57556)"
   ]
  },
  {
   "cell_type": "code",
   "execution_count": 31,
   "id": "fc10f05f",
   "metadata": {
    "ExecuteTime": {
     "end_time": "2023-08-02T06:31:50.342261Z",
     "start_time": "2023-08-02T06:31:50.336862Z"
    }
   },
   "outputs": [],
   "source": [
    "#Write a python function which will return me the maximum number\n",
    "def max_number(num1,num2):\n",
    "    '''This function returns max number between given two number'''\n",
    "    return max(num1,num2)"
   ]
  },
  {
   "cell_type": "code",
   "execution_count": 35,
   "id": "ba37b62c-449f-425d-9be1-7c098b35caa4",
   "metadata": {},
   "outputs": [
    {
     "data": {
      "text/plain": [
       "650"
      ]
     },
     "execution_count": 35,
     "metadata": {},
     "output_type": "execute_result"
    }
   ],
   "source": [
    "max_number(74,650)"
   ]
  },
  {
   "cell_type": "code",
   "execution_count": 37,
   "id": "70260616",
   "metadata": {
    "ExecuteTime": {
     "end_time": "2023-08-02T06:31:50.357639Z",
     "start_time": "2023-08-02T06:31:50.346171Z"
    }
   },
   "outputs": [],
   "source": [
    "def max_number(a,b):\n",
    "    if a>b:\n",
    "        return a\n",
    "    else:\n",
    "        return b"
   ]
  },
  {
   "cell_type": "code",
   "execution_count": 41,
   "id": "8a269a9a",
   "metadata": {
    "ExecuteTime": {
     "end_time": "2023-08-02T06:31:50.389533Z",
     "start_time": "2023-08-02T06:31:50.363275Z"
    }
   },
   "outputs": [
    {
     "data": {
      "text/plain": [
       "55"
      ]
     },
     "execution_count": 41,
     "metadata": {},
     "output_type": "execute_result"
    }
   ],
   "source": [
    "max_number(50,55)"
   ]
  },
  {
   "cell_type": "code",
   "execution_count": 43,
   "id": "49c846e3-31bc-4e39-85fc-8f29fc49c32a",
   "metadata": {},
   "outputs": [
    {
     "data": {
      "text/plain": [
       "'pythonsession'"
      ]
     },
     "execution_count": 43,
     "metadata": {},
     "output_type": "execute_result"
    }
   ],
   "source": [
    "'python'+'session'"
   ]
  },
  {
   "cell_type": "code",
   "execution_count": 45,
   "id": "45d4adba-4296-45db-8d34-c890ebe35d4b",
   "metadata": {},
   "outputs": [
    {
     "name": "stdout",
     "output_type": "stream",
     "text": [
      "pythonsession\n"
     ]
    }
   ],
   "source": [
    "add('python','session')"
   ]
  },
  {
   "cell_type": "markdown",
   "id": "603cc120",
   "metadata": {},
   "source": [
    "# Loops\n",
    "\n",
    "1. While Loop \n",
    "2. For loop"
   ]
  },
  {
   "cell_type": "code",
   "execution_count": null,
   "id": "c26de0a4",
   "metadata": {
    "ExecuteTime": {
     "end_time": "2023-08-02T06:31:50.651938Z",
     "start_time": "2023-08-02T06:31:50.651938Z"
    }
   },
   "outputs": [],
   "source": [
    "#While loops"
   ]
  },
  {
   "cell_type": "code",
   "execution_count": 55,
   "id": "08d8986f",
   "metadata": {
    "ExecuteTime": {
     "end_time": "2023-08-02T07:58:07.212596Z",
     "start_time": "2023-08-02T07:58:07.197870Z"
    }
   },
   "outputs": [
    {
     "name": "stdout",
     "output_type": "stream",
     "text": [
      "Learning python 10\n",
      "Learning python 9\n",
      "Learning python 8\n",
      "Learning python 7\n",
      "Learning python 6\n",
      "Learning python 5\n",
      "Learning python 4\n",
      "Learning python 3\n",
      "Learning python 2\n",
      "Learning python 1\n",
      "Python completed\n"
     ]
    }
   ],
   "source": [
    "python = 10\n",
    "\n",
    "while python > 0:\n",
    "    print('Learning python',python)\n",
    "    python = python - 1\n",
    "    \n",
    "print('Python completed')"
   ]
  },
  {
   "cell_type": "code",
   "execution_count": 51,
   "id": "c58591de-ac6c-4b6d-ad00-b33bf1975ac3",
   "metadata": {},
   "outputs": [
    {
     "data": {
      "text/plain": [
       "0"
      ]
     },
     "execution_count": 51,
     "metadata": {},
     "output_type": "execute_result"
    }
   ],
   "source": [
    "python"
   ]
  },
  {
   "cell_type": "code",
   "execution_count": null,
   "id": "8a99e5ee",
   "metadata": {
    "ExecuteTime": {
     "end_time": "2023-08-02T08:02:25.571020Z",
     "start_time": "2023-08-02T08:02:25.558670Z"
    }
   },
   "outputs": [],
   "source": [
    "age = 0\n",
    "\n",
    "while age < 18:\n",
    "    print('Not eligible')\n",
    "    age = age + 1\n",
    "    \n",
    "print('Eligible')"
   ]
  },
  {
   "cell_type": "code",
   "execution_count": 1,
   "id": "ec65326a-6955-4779-80a6-60138c13feda",
   "metadata": {},
   "outputs": [
    {
     "data": {
      "text/plain": [
       "range(1, 50)"
      ]
     },
     "execution_count": 1,
     "metadata": {},
     "output_type": "execute_result"
    }
   ],
   "source": [
    "range(1,50)"
   ]
  },
  {
   "cell_type": "code",
   "execution_count": 7,
   "id": "fd82727a-c719-4d6f-92e7-976926061799",
   "metadata": {},
   "outputs": [
    {
     "data": {
      "text/plain": [
       "set"
      ]
     },
     "execution_count": 7,
     "metadata": {},
     "output_type": "execute_result"
    }
   ],
   "source": [
    "lst = set()\n",
    "type(lst)"
   ]
  },
  {
   "cell_type": "code",
   "execution_count": 9,
   "id": "ec0d9c0d",
   "metadata": {
    "ExecuteTime": {
     "end_time": "2023-08-02T08:07:37.073825Z",
     "start_time": "2023-08-02T08:07:37.056546Z"
    }
   },
   "outputs": [
    {
     "data": {
      "text/plain": [
       "[1, 2, 3, 4, 5, 6, 7, 8, 9, 10, 11, 12, 13, 14, 15, 16, 17, 18, 19]"
      ]
     },
     "execution_count": 9,
     "metadata": {},
     "output_type": "execute_result"
    }
   ],
   "source": [
    "#range function\n",
    "list(range(1,20))"
   ]
  },
  {
   "cell_type": "code",
   "execution_count": 11,
   "id": "bb2ae0b3",
   "metadata": {
    "ExecuteTime": {
     "end_time": "2023-08-02T08:08:03.228495Z",
     "start_time": "2023-08-02T08:08:03.210844Z"
    }
   },
   "outputs": [
    {
     "data": {
      "text/plain": [
       "[1, 3, 5, 7, 9, 11, 13, 15, 17, 19]"
      ]
     },
     "execution_count": 11,
     "metadata": {},
     "output_type": "execute_result"
    }
   ],
   "source": [
    "list(range(1,21,2))"
   ]
  },
  {
   "cell_type": "code",
   "execution_count": null,
   "id": "25c41f27",
   "metadata": {
    "ExecuteTime": {
     "end_time": "2023-08-02T08:09:50.982681Z",
     "start_time": "2023-08-02T08:09:50.969776Z"
    }
   },
   "outputs": [],
   "source": [
    "list(range(0,21,2))"
   ]
  },
  {
   "cell_type": "code",
   "execution_count": null,
   "id": "d4d45a83",
   "metadata": {
    "ExecuteTime": {
     "end_time": "2023-08-02T06:31:50.658710Z",
     "start_time": "2023-08-02T06:31:50.658710Z"
    }
   },
   "outputs": [],
   "source": [
    "#For loop"
   ]
  },
  {
   "cell_type": "code",
   "execution_count": null,
   "id": "ac96a16e",
   "metadata": {
    "ExecuteTime": {
     "end_time": "2023-07-02T11:34:41.449202Z",
     "start_time": "2023-07-02T11:34:41.433555Z"
    }
   },
   "outputs": [],
   "source": [
    "lst = [1,2,3,4,5]"
   ]
  },
  {
   "cell_type": "code",
   "execution_count": null,
   "id": "ad8754db",
   "metadata": {
    "ExecuteTime": {
     "end_time": "2023-08-02T08:15:30.231702Z",
     "start_time": "2023-08-02T08:15:30.214451Z"
    }
   },
   "outputs": [],
   "source": [
    "for i in range(1,100):\n",
    "    print(i)"
   ]
  },
  {
   "cell_type": "code",
   "execution_count": null,
   "id": "7b612e00",
   "metadata": {
    "ExecuteTime": {
     "end_time": "2023-08-02T08:19:20.810162Z",
     "start_time": "2023-08-02T08:19:20.789960Z"
    }
   },
   "outputs": [],
   "source": [
    "lst = []\n",
    "\n",
    "for i in range(1,100,2):\n",
    "    lst.append(i)"
   ]
  },
  {
   "cell_type": "code",
   "execution_count": 2,
   "id": "dc405e16",
   "metadata": {
    "ExecuteTime": {
     "end_time": "2023-08-02T08:23:47.763019Z",
     "start_time": "2023-08-02T08:23:47.757485Z"
    }
   },
   "outputs": [
    {
     "name": "stdout",
     "output_type": "stream",
     "text": [
      "1\n",
      "4\n",
      "9\n",
      "16\n",
      "25\n",
      "36\n",
      "49\n",
      "64\n",
      "81\n"
     ]
    }
   ],
   "source": [
    "for x in range(1,10):\n",
    "    print(x**2)"
   ]
  },
  {
   "cell_type": "code",
   "execution_count": 3,
   "id": "e55b50f3",
   "metadata": {
    "ExecuteTime": {
     "end_time": "2023-08-02T08:25:04.006340Z",
     "start_time": "2023-08-02T08:25:03.999781Z"
    }
   },
   "outputs": [
    {
     "data": {
      "text/plain": [
       "['flipkart', 'amazon', 'excelr']"
      ]
     },
     "execution_count": 3,
     "metadata": {},
     "output_type": "execute_result"
    }
   ],
   "source": [
    "#Company list\n",
    "company = ['flipkart','amazon','excelr']\n",
    "company"
   ]
  },
  {
   "cell_type": "code",
   "execution_count": null,
   "id": "77bd1973",
   "metadata": {
    "ExecuteTime": {
     "end_time": "2023-08-02T08:27:29.694767Z",
     "start_time": "2023-08-02T08:27:29.682901Z"
    }
   },
   "outputs": [],
   "source": [
    "for i in company:\n",
    "    print(i)"
   ]
  },
  {
   "cell_type": "code",
   "execution_count": null,
   "id": "b3893ac1",
   "metadata": {
    "ExecuteTime": {
     "end_time": "2023-08-02T08:29:04.282977Z",
     "start_time": "2023-08-02T08:29:04.263878Z"
    }
   },
   "outputs": [],
   "source": [
    "for i in company:\n",
    "    print('www.'+i+'.com')"
   ]
  },
  {
   "cell_type": "code",
   "execution_count": 15,
   "id": "552b0c6e-3908-442e-961a-9a61bf0fe715",
   "metadata": {},
   "outputs": [
    {
     "name": "stdout",
     "output_type": "stream",
     "text": [
      "www.flipkart.com\n",
      "www.amazon.com\n",
      "www.excelr.com\n"
     ]
    }
   ],
   "source": [
    "for i in company:\n",
    "    print(f'www.{i}.com')"
   ]
  },
  {
   "cell_type": "code",
   "execution_count": 18,
   "id": "2c58ee21",
   "metadata": {},
   "outputs": [
    {
     "name": "stdout",
     "output_type": "stream",
     "text": [
      "www.flipkart.com\n",
      "www.amazon.com\n",
      "www.excelr.com\n"
     ]
    }
   ],
   "source": [
    "for i in company:\n",
    "    print('www.{0}.com'.format(i))"
   ]
  },
  {
   "cell_type": "code",
   "execution_count": 19,
   "id": "cd745abf-1694-4aa6-8a82-5fe905888712",
   "metadata": {},
   "outputs": [
    {
     "name": "stdout",
     "output_type": "stream",
     "text": [
      "Collecting pandas\n",
      "  Downloading pandas-2.2.3-cp311-cp311-win_amd64.whl (11.6 MB)\n",
      "     ---------------------------------------- 11.6/11.6 MB 5.1 MB/s eta 0:00:00\n",
      "Collecting numpy>=1.23.2\n",
      "  Downloading numpy-2.1.2-cp311-cp311-win_amd64.whl (12.9 MB)\n",
      "     ---------------------------------------- 12.9/12.9 MB 5.7 MB/s eta 0:00:00\n",
      "Requirement already satisfied: python-dateutil>=2.8.2 in c:\\users\\aishwarya\\appdata\\local\\programs\\python\\python311\\lib\\site-packages (from pandas) (2.9.0.post0)\n",
      "Collecting pytz>=2020.1\n",
      "  Downloading pytz-2024.2-py2.py3-none-any.whl (508 kB)\n",
      "     -------------------------------------- 508.0/508.0 kB 3.2 MB/s eta 0:00:00\n",
      "Collecting tzdata>=2022.7\n",
      "  Downloading tzdata-2024.2-py2.py3-none-any.whl (346 kB)\n",
      "     -------------------------------------- 346.6/346.6 kB 5.4 MB/s eta 0:00:00\n",
      "Requirement already satisfied: six>=1.5 in c:\\users\\aishwarya\\appdata\\local\\programs\\python\\python311\\lib\\site-packages (from python-dateutil>=2.8.2->pandas) (1.16.0)\n",
      "Installing collected packages: pytz, tzdata, numpy, pandas\n",
      "Successfully installed numpy-2.1.2 pandas-2.2.3 pytz-2024.2 tzdata-2024.2\n",
      "Note: you may need to restart the kernel to use updated packages.\n"
     ]
    },
    {
     "name": "stderr",
     "output_type": "stream",
     "text": [
      "\n",
      "[notice] A new release of pip available: 22.3 -> 24.2\n",
      "[notice] To update, run: python.exe -m pip install --upgrade pip\n"
     ]
    }
   ],
   "source": [
    "pip install pandas"
   ]
  },
  {
   "cell_type": "code",
   "execution_count": 20,
   "id": "96a0620d-2a4f-46f9-ae01-cf5bcb9c1bdf",
   "metadata": {},
   "outputs": [
    {
     "name": "stderr",
     "output_type": "stream",
     "text": [
      "\n",
      "[notice] A new release of pip available: 22.3 -> 24.2\n",
      "[notice] To update, run: python.exe -m pip install --upgrade pip\n"
     ]
    },
    {
     "name": "stdout",
     "output_type": "stream",
     "text": [
      "Requirement already satisfied: numpy in c:\\users\\aishwarya\\appdata\\local\\programs\\python\\python311\\lib\\site-packages (2.1.2)\n"
     ]
    }
   ],
   "source": [
    "!pip install numpy"
   ]
  },
  {
   "cell_type": "code",
   "execution_count": null,
   "id": "a8a2d39b-81af-4e44-96e8-1000e6d54f1e",
   "metadata": {},
   "outputs": [],
   "source": []
  }
 ],
 "metadata": {
  "kernelspec": {
   "display_name": "Python 3 (ipykernel)",
   "language": "python",
   "name": "python3"
  },
  "language_info": {
   "codemirror_mode": {
    "name": "ipython",
    "version": 3
   },
   "file_extension": ".py",
   "mimetype": "text/x-python",
   "name": "python",
   "nbconvert_exporter": "python",
   "pygments_lexer": "ipython3",
   "version": "3.11.0"
  }
 },
 "nbformat": 4,
 "nbformat_minor": 5
}
