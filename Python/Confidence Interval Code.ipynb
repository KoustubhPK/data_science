{
 "cells": [
  {
   "cell_type": "code",
   "execution_count": 1,
   "id": "4c807bb3",
   "metadata": {
    "ExecuteTime": {
     "end_time": "2023-08-16T09:07:36.611382Z",
     "start_time": "2023-08-16T09:07:36.583242Z"
    }
   },
   "outputs": [],
   "source": [
    "from scipy import stats\n",
    "import numpy as np"
   ]
  },
  {
   "cell_type": "code",
   "execution_count": 2,
   "id": "07e7b263",
   "metadata": {
    "ExecuteTime": {
     "end_time": "2023-08-16T09:07:45.285698Z",
     "start_time": "2023-08-16T09:07:45.267493Z"
    }
   },
   "outputs": [
    {
     "data": {
      "text/plain": [
       "(np.float64(1575.8820248378292), np.float64(2404.1179751621708))"
      ]
     },
     "execution_count": 2,
     "metadata": {},
     "output_type": "execute_result"
    }
   ],
   "source": [
    "#Z method\n",
    "\n",
    "stats.norm.interval(0.95,1990,2500/np.sqrt(140))"
   ]
  },
  {
   "cell_type": "code",
   "execution_count": 3,
   "id": "4c11780c",
   "metadata": {
    "ExecuteTime": {
     "end_time": "2023-08-16T09:14:48.863817Z",
     "start_time": "2023-08-16T09:14:48.852830Z"
    }
   },
   "outputs": [
    {
     "data": {
      "text/plain": [
       "(np.float64(1516.5999869168315), np.float64(2463.4000130831682))"
      ]
     },
     "execution_count": 3,
     "metadata": {},
     "output_type": "execute_result"
    }
   ],
   "source": [
    "# T method\n",
    "stats.t.interval(0.95,df = 139, loc = 1990,scale = 2833/np.sqrt(140))"
   ]
  },
  {
   "cell_type": "code",
   "execution_count": 4,
   "id": "cf723115",
   "metadata": {},
   "outputs": [
    {
     "data": {
      "text/plain": [
       "np.float64(1.959963984540054)"
      ]
     },
     "execution_count": 4,
     "metadata": {},
     "output_type": "execute_result"
    }
   ],
   "source": [
    "stats.norm.ppf(0.975) #point percent function"
   ]
  },
  {
   "cell_type": "code",
   "execution_count": 5,
   "id": "7f77205a-9f5f-4a9d-8baa-f6fd3a984824",
   "metadata": {},
   "outputs": [
    {
     "data": {
      "text/plain": [
       "np.float64(1.977177724476122)"
      ]
     },
     "execution_count": 5,
     "metadata": {},
     "output_type": "execute_result"
    }
   ],
   "source": [
    "stats.t.ppf(0.975,139)"
   ]
  },
  {
   "cell_type": "code",
   "execution_count": 6,
   "id": "371bd4a6-765f-47b4-b8fc-6336f2733eb6",
   "metadata": {},
   "outputs": [
    {
     "data": {
      "text/plain": [
       "(np.float64(949.3939475247336), np.float64(1050.6060524752663))"
      ]
     },
     "execution_count": 6,
     "metadata": {},
     "output_type": "execute_result"
    }
   ],
   "source": [
    "sample_mean = 1000\n",
    "pop_sd = 200\n",
    "size = 60\n",
    "\n",
    "stats.norm.interval(0.95,sample_mean,pop_sd/np.sqrt(size))"
   ]
  },
  {
   "cell_type": "markdown",
   "id": "e748e0f7-970f-4741-b2f9-36235bb3107f",
   "metadata": {},
   "source": [
    "- A random sample of 50 students is taken from a large population and the average height is found to be 165cm and standard deviation is 10cm. Construct a 95% confidence interval."
   ]
  },
  {
   "cell_type": "code",
   "execution_count": 7,
   "id": "dd75170d-d5a4-4a26-bd71-3c41dfa47422",
   "metadata": {},
   "outputs": [
    {
     "data": {
      "text/plain": [
       "(np.float64(162.1580314450427), np.float64(167.8419685549573))"
      ]
     },
     "execution_count": 7,
     "metadata": {},
     "output_type": "execute_result"
    }
   ],
   "source": [
    "stats.t.interval(0.95, df = 49, loc = 165, scale = (10/np.sqrt(50)))"
   ]
  },
  {
   "cell_type": "code",
   "execution_count": null,
   "id": "2a901bca-b5b0-4412-a859-8874cbc0a7e1",
   "metadata": {},
   "outputs": [],
   "source": []
  }
 ],
 "metadata": {
  "kernelspec": {
   "display_name": "Python 3 (ipykernel)",
   "language": "python",
   "name": "python3"
  },
  "language_info": {
   "codemirror_mode": {
    "name": "ipython",
    "version": 3
   },
   "file_extension": ".py",
   "mimetype": "text/x-python",
   "name": "python",
   "nbconvert_exporter": "python",
   "pygments_lexer": "ipython3",
   "version": "3.11.0"
  }
 },
 "nbformat": 4,
 "nbformat_minor": 5
}
