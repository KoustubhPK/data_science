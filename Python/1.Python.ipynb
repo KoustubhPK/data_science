{
 "cells": [
  {
   "cell_type": "markdown",
   "id": "e4d1a026",
   "metadata": {},
   "source": [
    "# Variables in Python\n",
    "- Variables acts as a container to store data in memory space.\n",
    "- Variables are pointer towards object in python\n",
    "- Variables can start with letters or underscore.\n",
    "- You cannot include special characters while creating a variable.\n",
    "\n",
    "**Important points to remeber while creating a variable**\n",
    "1. Python is case sensitive\n",
    "2. If variable name involves more than 2 words, join those words with underscore.\n",
    "3. Give meaningful name to variables"
   ]
  },
  {
   "cell_type": "code",
   "execution_count": 3,
   "id": "46ee39cf",
   "metadata": {
    "ExecuteTime": {
     "end_time": "2023-07-27T07:54:41.177565Z",
     "start_time": "2023-07-27T07:54:41.167703Z"
    }
   },
   "outputs": [
    {
     "data": {
      "text/plain": [
       "10"
      ]
     },
     "execution_count": 3,
     "metadata": {},
     "output_type": "execute_result"
    }
   ],
   "source": [
    "a = 10\n",
    "a"
   ]
  },
  {
   "cell_type": "code",
   "execution_count": 7,
   "id": "664c2728",
   "metadata": {
    "ExecuteTime": {
     "end_time": "2023-07-25T10:56:03.296293Z",
     "start_time": "2023-07-25T10:56:03.271416Z"
    }
   },
   "outputs": [],
   "source": [
    "#Single line comment"
   ]
  },
  {
   "cell_type": "code",
   "execution_count": 9,
   "id": "91c3d50c",
   "metadata": {
    "ExecuteTime": {
     "end_time": "2023-07-27T08:03:19.678711Z",
     "start_time": "2023-07-27T08:03:19.663492Z"
    }
   },
   "outputs": [
    {
     "data": {
      "text/plain": [
       "60"
      ]
     },
     "execution_count": 9,
     "metadata": {},
     "output_type": "execute_result"
    }
   ],
   "source": [
    "age = 60 #age variable contains 60 value.\n",
    "age"
   ]
  },
  {
   "cell_type": "code",
   "execution_count": 13,
   "id": "159d6f1b",
   "metadata": {
    "ExecuteTime": {
     "end_time": "2023-07-27T08:07:35.779204Z",
     "start_time": "2023-07-27T08:07:35.770270Z"
    }
   },
   "outputs": [
    {
     "data": {
      "text/plain": [
       "'This is first line This is second line \\nThis is third line'"
      ]
     },
     "execution_count": 13,
     "metadata": {},
     "output_type": "execute_result"
    }
   ],
   "source": [
    "#Multi-line comment\n",
    "'''This is first line This is second line \n",
    "This is third line'''"
   ]
  },
  {
   "cell_type": "code",
   "execution_count": null,
   "id": "d00a5055",
   "metadata": {
    "ExecuteTime": {
     "end_time": "2023-07-27T08:08:19.763731Z",
     "start_time": "2023-07-27T08:08:19.757596Z"
    }
   },
   "outputs": [],
   "source": [
    "age"
   ]
  },
  {
   "cell_type": "markdown",
   "id": "72a732b2",
   "metadata": {},
   "source": [
    "# Data types in python\n",
    "1. Integer\n",
    "2. Float\n",
    "3. String\n",
    "4. Boolean"
   ]
  },
  {
   "cell_type": "code",
   "execution_count": null,
   "id": "85545b8e",
   "metadata": {
    "ExecuteTime": {
     "end_time": "2023-07-27T08:46:36.215493Z",
     "start_time": "2023-07-27T08:46:36.197745Z"
    }
   },
   "outputs": [],
   "source": [
    "integer = 10\n",
    "continous = 45.2\n",
    "text = \"Python\"\n",
    "boolean = True"
   ]
  },
  {
   "cell_type": "code",
   "execution_count": null,
   "id": "bdc54922",
   "metadata": {
    "ExecuteTime": {
     "end_time": "2023-07-27T08:47:05.218808Z",
     "start_time": "2023-07-27T08:47:05.199744Z"
    }
   },
   "outputs": [],
   "source": [
    "print(integer)\n",
    "print(continous)\n",
    "print(text)\n",
    "print(boolean)"
   ]
  },
  {
   "cell_type": "markdown",
   "id": "48220fa4",
   "metadata": {},
   "source": [
    "# Data Structures\n",
    "1. Lists\n",
    "2. Tuple\n",
    "3. Dictionary\n",
    "4. Sets"
   ]
  },
  {
   "cell_type": "markdown",
   "id": "78753086",
   "metadata": {},
   "source": [
    "**Lists**\n",
    "\n",
    "- Lists are the built in data structures in python.\n",
    "- Lists are heterogenous data structure.\n",
    "- Lists are mutable."
   ]
  },
  {
   "cell_type": "code",
   "execution_count": null,
   "id": "8417c924",
   "metadata": {
    "ExecuteTime": {
     "end_time": "2023-07-25T10:56:03.515450Z",
     "start_time": "2023-07-25T10:56:03.503871Z"
    }
   },
   "outputs": [],
   "source": [
    "#Creating lists"
   ]
  },
  {
   "cell_type": "code",
   "execution_count": null,
   "id": "f1570c8d",
   "metadata": {
    "ExecuteTime": {
     "end_time": "2023-07-31T07:43:34.905952Z",
     "start_time": "2023-07-31T07:43:34.891501Z"
    }
   },
   "outputs": [],
   "source": [
    "lst = []\n",
    "type(lst)"
   ]
  },
  {
   "cell_type": "code",
   "execution_count": 22,
   "id": "3f4790ef",
   "metadata": {
    "ExecuteTime": {
     "end_time": "2023-07-31T07:44:11.905618Z",
     "start_time": "2023-07-31T07:44:11.885599Z"
    }
   },
   "outputs": [],
   "source": [
    "lst = [10,10.2,True,'Python', 2,2,2]"
   ]
  },
  {
   "cell_type": "code",
   "execution_count": 24,
   "id": "8884c02e",
   "metadata": {
    "ExecuteTime": {
     "end_time": "2023-07-31T07:45:45.367210Z",
     "start_time": "2023-07-31T07:45:45.348355Z"
    }
   },
   "outputs": [
    {
     "data": {
      "text/plain": [
       "4"
      ]
     },
     "execution_count": 24,
     "metadata": {},
     "output_type": "execute_result"
    }
   ],
   "source": [
    "lst.index(2)\n"
   ]
  },
  {
   "cell_type": "code",
   "execution_count": null,
   "id": "2c6bba18",
   "metadata": {
    "ExecuteTime": {
     "end_time": "2023-07-25T10:56:03.526432Z",
     "start_time": "2023-07-25T10:56:03.519231Z"
    }
   },
   "outputs": [],
   "source": [
    "#append"
   ]
  },
  {
   "cell_type": "code",
   "execution_count": null,
   "id": "19d6c98e",
   "metadata": {
    "ExecuteTime": {
     "end_time": "2023-07-31T07:46:42.563786Z",
     "start_time": "2023-07-31T07:46:42.547692Z"
    }
   },
   "outputs": [],
   "source": [
    "lst.append(False)"
   ]
  },
  {
   "cell_type": "code",
   "execution_count": null,
   "id": "bbde84dd",
   "metadata": {
    "ExecuteTime": {
     "end_time": "2023-07-31T07:46:47.779321Z",
     "start_time": "2023-07-31T07:46:47.761935Z"
    }
   },
   "outputs": [],
   "source": [
    "lst"
   ]
  },
  {
   "cell_type": "code",
   "execution_count": null,
   "id": "e5a6f491",
   "metadata": {
    "ExecuteTime": {
     "end_time": "2023-07-25T10:56:03.609564Z",
     "start_time": "2023-07-25T10:56:03.595848Z"
    }
   },
   "outputs": [],
   "source": [
    "#remove"
   ]
  },
  {
   "cell_type": "code",
   "execution_count": null,
   "id": "d079c056",
   "metadata": {
    "ExecuteTime": {
     "end_time": "2023-07-31T07:56:52.471097Z",
     "start_time": "2023-07-31T07:56:52.465526Z"
    }
   },
   "outputs": [],
   "source": [
    "lst.remove(10.2)"
   ]
  },
  {
   "cell_type": "code",
   "execution_count": null,
   "id": "2aac00d6",
   "metadata": {
    "ExecuteTime": {
     "end_time": "2023-07-31T07:56:56.827835Z",
     "start_time": "2023-07-31T07:56:56.810477Z"
    }
   },
   "outputs": [],
   "source": [
    "lst"
   ]
  },
  {
   "cell_type": "markdown",
   "id": "5dbba063",
   "metadata": {},
   "source": [
    "**Tuple**\n",
    "\n",
    "- Tuples are ordered and heterogenous data structure.\n",
    "- Tuples are immutable."
   ]
  },
  {
   "cell_type": "code",
   "execution_count": null,
   "id": "174d82a7",
   "metadata": {
    "ExecuteTime": {
     "end_time": "2023-07-25T10:56:03.634576Z",
     "start_time": "2023-07-25T10:56:03.626902Z"
    }
   },
   "outputs": [],
   "source": [
    "#Create a tuple"
   ]
  },
  {
   "cell_type": "code",
   "execution_count": 25,
   "id": "52b0c1d4",
   "metadata": {
    "ExecuteTime": {
     "end_time": "2023-07-31T08:00:31.979661Z",
     "start_time": "2023-07-31T08:00:31.973396Z"
    }
   },
   "outputs": [
    {
     "data": {
      "text/plain": [
       "tuple"
      ]
     },
     "execution_count": 25,
     "metadata": {},
     "output_type": "execute_result"
    }
   ],
   "source": [
    "t = ()\n",
    "type(t)"
   ]
  },
  {
   "cell_type": "code",
   "execution_count": 31,
   "id": "9d6cc3a9",
   "metadata": {
    "ExecuteTime": {
     "end_time": "2023-07-31T08:00:54.886582Z",
     "start_time": "2023-07-31T08:00:54.876746Z"
    }
   },
   "outputs": [
    {
     "data": {
      "text/plain": [
       "[10, 5.5, True, 'python']"
      ]
     },
     "execution_count": 31,
     "metadata": {},
     "output_type": "execute_result"
    }
   ],
   "source": [
    "t = (10,5.5,True,'python')\n",
    "\n",
    "ab = list(t)\n",
    "ab"
   ]
  },
  {
   "cell_type": "code",
   "execution_count": 27,
   "id": "5b616bb0",
   "metadata": {
    "ExecuteTime": {
     "end_time": "2023-07-31T08:02:01.130314Z",
     "start_time": "2023-07-31T08:02:01.114422Z"
    }
   },
   "outputs": [
    {
     "data": {
      "text/plain": [
       "1"
      ]
     },
     "execution_count": 27,
     "metadata": {},
     "output_type": "execute_result"
    }
   ],
   "source": [
    "t.count(5.5)"
   ]
  },
  {
   "cell_type": "code",
   "execution_count": 28,
   "id": "5e96b44f",
   "metadata": {
    "ExecuteTime": {
     "end_time": "2023-07-31T08:02:11.888777Z",
     "start_time": "2023-07-31T08:02:11.868835Z"
    }
   },
   "outputs": [
    {
     "data": {
      "text/plain": [
       "2"
      ]
     },
     "execution_count": 28,
     "metadata": {},
     "output_type": "execute_result"
    }
   ],
   "source": [
    "t.index(True)"
   ]
  },
  {
   "cell_type": "code",
   "execution_count": null,
   "id": "e6436ef7",
   "metadata": {
    "ExecuteTime": {
     "end_time": "2023-07-25T10:56:03.643008Z",
     "start_time": "2023-07-25T10:56:03.637489Z"
    }
   },
   "outputs": [],
   "source": [
    "#Accessing elements from tuple"
   ]
  },
  {
   "cell_type": "code",
   "execution_count": 29,
   "id": "a913ba15",
   "metadata": {
    "ExecuteTime": {
     "end_time": "2023-07-31T08:02:51.094947Z",
     "start_time": "2023-07-31T08:02:51.074954Z"
    }
   },
   "outputs": [
    {
     "data": {
      "text/plain": [
       "'python'"
      ]
     },
     "execution_count": 29,
     "metadata": {},
     "output_type": "execute_result"
    }
   ],
   "source": [
    "t[3]"
   ]
  },
  {
   "cell_type": "markdown",
   "id": "fb3d7af9",
   "metadata": {},
   "source": [
    "**Dictionary**\n",
    "\n",
    "- Python dictionaries are ordered collection of items.\n",
    "- Dictionary is mutable data structure.\n",
    "- It has key and value pair."
   ]
  },
  {
   "cell_type": "code",
   "execution_count": null,
   "id": "5a7874ad",
   "metadata": {
    "ExecuteTime": {
     "end_time": "2023-07-25T10:56:03.658016Z",
     "start_time": "2023-07-25T10:56:03.645308Z"
    }
   },
   "outputs": [],
   "source": [
    "#Creating an empty dictionary"
   ]
  },
  {
   "cell_type": "code",
   "execution_count": null,
   "id": "027b0252",
   "metadata": {
    "ExecuteTime": {
     "end_time": "2023-07-31T08:05:13.277819Z",
     "start_time": "2023-07-31T08:05:13.266306Z"
    }
   },
   "outputs": [],
   "source": [
    "dictionary = {}\n",
    "type(dictionary)"
   ]
  },
  {
   "cell_type": "code",
   "execution_count": null,
   "id": "de8f6bcf",
   "metadata": {
    "ExecuteTime": {
     "end_time": "2023-07-25T10:56:03.669256Z",
     "start_time": "2023-07-25T10:56:03.660414Z"
    }
   },
   "outputs": [],
   "source": [
    "#Adding elements in a dictionary"
   ]
  },
  {
   "cell_type": "code",
   "execution_count": 32,
   "id": "c62f2131",
   "metadata": {
    "ExecuteTime": {
     "end_time": "2023-07-31T08:07:02.158012Z",
     "start_time": "2023-07-31T08:07:02.146202Z"
    }
   },
   "outputs": [],
   "source": [
    "dictionary = {\n",
    "    'Name':'ABC',\n",
    "    'Age' : 25,\n",
    "    'Location' :'Pune',\n",
    "    'Course': 'DS'\n",
    "}"
   ]
  },
  {
   "cell_type": "code",
   "execution_count": 33,
   "id": "28932946",
   "metadata": {
    "ExecuteTime": {
     "end_time": "2023-07-31T08:07:22.937437Z",
     "start_time": "2023-07-31T08:07:22.926812Z"
    }
   },
   "outputs": [
    {
     "data": {
      "text/plain": [
       "{'Name': 'ABC', 'Age': 25, 'Location': 'Pune', 'Course': 'DS'}"
      ]
     },
     "execution_count": 33,
     "metadata": {},
     "output_type": "execute_result"
    }
   ],
   "source": [
    "dictionary"
   ]
  },
  {
   "cell_type": "code",
   "execution_count": 34,
   "id": "093b715b",
   "metadata": {
    "ExecuteTime": {
     "end_time": "2023-07-31T08:12:20.335272Z",
     "start_time": "2023-07-31T08:12:20.329362Z"
    }
   },
   "outputs": [],
   "source": [
    "#Adding values in dictionary(update)\n",
    "dictionary.update({'Date':2023})"
   ]
  },
  {
   "cell_type": "code",
   "execution_count": 35,
   "id": "11a1265d",
   "metadata": {
    "ExecuteTime": {
     "end_time": "2023-07-31T08:12:27.404602Z",
     "start_time": "2023-07-31T08:12:27.393764Z"
    }
   },
   "outputs": [
    {
     "data": {
      "text/plain": [
       "{'Name': 'ABC', 'Age': 25, 'Location': 'Pune', 'Course': 'DS', 'Date': 2023}"
      ]
     },
     "execution_count": 35,
     "metadata": {},
     "output_type": "execute_result"
    }
   ],
   "source": [
    "dictionary"
   ]
  },
  {
   "cell_type": "code",
   "execution_count": 36,
   "id": "d3f5e395",
   "metadata": {
    "ExecuteTime": {
     "end_time": "2023-07-31T08:13:22.780414Z",
     "start_time": "2023-07-31T08:13:22.764383Z"
    }
   },
   "outputs": [],
   "source": [
    "dictionary.update({'Subject' : 'ML','Month':'July'})"
   ]
  },
  {
   "cell_type": "code",
   "execution_count": 37,
   "id": "bb87bfcd",
   "metadata": {
    "ExecuteTime": {
     "end_time": "2023-07-31T08:13:34.797562Z",
     "start_time": "2023-07-31T08:13:34.780506Z"
    }
   },
   "outputs": [
    {
     "data": {
      "text/plain": [
       "{'Name': 'ABC',\n",
       " 'Age': 25,\n",
       " 'Location': 'Pune',\n",
       " 'Course': 'DS',\n",
       " 'Date': 2023,\n",
       " 'Subject': 'ML',\n",
       " 'Month': 'July'}"
      ]
     },
     "execution_count": 37,
     "metadata": {},
     "output_type": "execute_result"
    }
   ],
   "source": [
    "dictionary"
   ]
  },
  {
   "cell_type": "code",
   "execution_count": 39,
   "id": "116a2fd3",
   "metadata": {
    "ExecuteTime": {
     "end_time": "2023-07-31T08:16:52.765693Z",
     "start_time": "2023-07-31T08:16:52.749126Z"
    }
   },
   "outputs": [
    {
     "data": {
      "text/plain": [
       "'ML'"
      ]
     },
     "execution_count": 39,
     "metadata": {},
     "output_type": "execute_result"
    }
   ],
   "source": [
    "dictionary.pop('Subject')"
   ]
  },
  {
   "cell_type": "code",
   "execution_count": 40,
   "id": "911dd6c1",
   "metadata": {
    "ExecuteTime": {
     "end_time": "2023-07-31T08:16:59.198230Z",
     "start_time": "2023-07-31T08:16:59.177721Z"
    }
   },
   "outputs": [
    {
     "data": {
      "text/plain": [
       "{'Name': 'ABC',\n",
       " 'Age': 25,\n",
       " 'Location': 'Pune',\n",
       " 'Course': 'DS',\n",
       " 'Date': 2023,\n",
       " 'Month': 'July'}"
      ]
     },
     "execution_count": 40,
     "metadata": {},
     "output_type": "execute_result"
    }
   ],
   "source": [
    "dictionary"
   ]
  },
  {
   "cell_type": "markdown",
   "id": "da0825b4",
   "metadata": {},
   "source": [
    "**Set**\n",
    "\n",
    "- Set is a collection which is unordered,unindexed.\n",
    "- Set is immutable.\n",
    "- Sets are unordered, so you cannot be sure in which order the items will appear.\n",
    "- Sets do not allow duplicate values.\n",
    "- Once a set is created, you cannot change its items, but you can remove items and add new items.\n",
    "- As sets are unordered, they do not support indexing and slicing operations."
   ]
  },
  {
   "cell_type": "code",
   "execution_count": 41,
   "id": "f77bace1",
   "metadata": {
    "ExecuteTime": {
     "end_time": "2023-07-31T08:23:12.787603Z",
     "start_time": "2023-07-31T08:23:12.766370Z"
    }
   },
   "outputs": [
    {
     "data": {
      "text/plain": [
       "set"
      ]
     },
     "execution_count": 41,
     "metadata": {},
     "output_type": "execute_result"
    }
   ],
   "source": [
    "#creating an empty set\n",
    "s = {10,20,True,'Hello'}\n",
    "type(s)"
   ]
  },
  {
   "cell_type": "code",
   "execution_count": 42,
   "id": "d5c148cf",
   "metadata": {
    "ExecuteTime": {
     "end_time": "2023-07-31T08:23:42.345588Z",
     "start_time": "2023-07-31T08:23:42.337896Z"
    }
   },
   "outputs": [],
   "source": [
    "#Does not allow duplicate items\n",
    "s1 = {10,10,10,20,30,40,50}"
   ]
  },
  {
   "cell_type": "code",
   "execution_count": 45,
   "id": "7295fc4f",
   "metadata": {
    "ExecuteTime": {
     "end_time": "2023-07-31T08:23:48.027732Z",
     "start_time": "2023-07-31T08:23:48.013075Z"
    }
   },
   "outputs": [
    {
     "data": {
      "text/plain": [
       "{10, 20, 30, 40, 50}"
      ]
     },
     "execution_count": 45,
     "metadata": {},
     "output_type": "execute_result"
    }
   ],
   "source": [
    "s1"
   ]
  },
  {
   "cell_type": "code",
   "execution_count": null,
   "id": "037e0a3f",
   "metadata": {
    "ExecuteTime": {
     "end_time": "2023-07-25T10:56:04.032932Z",
     "start_time": "2023-07-25T10:56:04.032932Z"
    }
   },
   "outputs": [],
   "source": [
    "#Does not support indexing"
   ]
  },
  {
   "cell_type": "code",
   "execution_count": 49,
   "id": "d68bb6d0",
   "metadata": {
    "ExecuteTime": {
     "end_time": "2023-07-31T08:24:22.726519Z",
     "start_time": "2023-07-31T08:24:22.705393Z"
    }
   },
   "outputs": [
    {
     "data": {
      "text/plain": [
       "{10, 20, 30, 40, 50, 60}"
      ]
     },
     "execution_count": 49,
     "metadata": {},
     "output_type": "execute_result"
    }
   ],
   "source": [
    "s1"
   ]
  },
  {
   "cell_type": "code",
   "execution_count": 47,
   "id": "e982d040",
   "metadata": {
    "ExecuteTime": {
     "end_time": "2023-07-31T08:24:53.742107Z",
     "start_time": "2023-07-31T08:24:53.730930Z"
    }
   },
   "outputs": [],
   "source": [
    "#Add\n",
    "s1.add(60)"
   ]
  },
  {
   "cell_type": "code",
   "execution_count": null,
   "id": "8c391c81",
   "metadata": {
    "ExecuteTime": {
     "end_time": "2023-07-31T08:24:59.016523Z",
     "start_time": "2023-07-31T08:24:59.000408Z"
    }
   },
   "outputs": [],
   "source": [
    "s1"
   ]
  },
  {
   "cell_type": "code",
   "execution_count": null,
   "id": "de5eded3",
   "metadata": {
    "ExecuteTime": {
     "end_time": "2023-07-25T10:56:04.037977Z",
     "start_time": "2023-07-25T10:56:04.037977Z"
    }
   },
   "outputs": [],
   "source": [
    "#pop"
   ]
  },
  {
   "cell_type": "code",
   "execution_count": 50,
   "id": "a7c2f0aa",
   "metadata": {
    "ExecuteTime": {
     "end_time": "2023-07-31T08:25:39.301132Z",
     "start_time": "2023-07-31T08:25:39.284974Z"
    }
   },
   "outputs": [
    {
     "data": {
      "text/plain": [
       "50"
      ]
     },
     "execution_count": 50,
     "metadata": {},
     "output_type": "execute_result"
    }
   ],
   "source": [
    "s1.pop()"
   ]
  },
  {
   "cell_type": "code",
   "execution_count": 51,
   "id": "1d9e2195",
   "metadata": {
    "ExecuteTime": {
     "end_time": "2023-07-31T08:25:49.824590Z",
     "start_time": "2023-07-31T08:25:49.814949Z"
    }
   },
   "outputs": [
    {
     "data": {
      "text/plain": [
       "{10, 20, 30, 40, 60}"
      ]
     },
     "execution_count": 51,
     "metadata": {},
     "output_type": "execute_result"
    }
   ],
   "source": [
    "s1"
   ]
  },
  {
   "cell_type": "code",
   "execution_count": 2,
   "id": "df1c0c28",
   "metadata": {},
   "outputs": [
    {
     "data": {
      "text/plain": [
       "True"
      ]
     },
     "execution_count": 2,
     "metadata": {},
     "output_type": "execute_result"
    }
   ],
   "source": [
    "a = 50\n",
    "b = 25\n",
    "\n",
    "a is not b"
   ]
  },
  {
   "cell_type": "code",
   "execution_count": 3,
   "id": "7e108325-1fe1-49e3-8eaf-eee752d027e2",
   "metadata": {},
   "outputs": [
    {
     "ename": "ValueError",
     "evalue": "invalid literal for int() with base 10: 'as'",
     "output_type": "error",
     "traceback": [
      "\u001b[1;31m---------------------------------------------------------------------------\u001b[0m",
      "\u001b[1;31mValueError\u001b[0m                                Traceback (most recent call last)",
      "Cell \u001b[1;32mIn[3], line 2\u001b[0m\n\u001b[0;32m      1\u001b[0m a \u001b[38;5;241m=\u001b[39m \u001b[38;5;124m\"\u001b[39m\u001b[38;5;124mas\u001b[39m\u001b[38;5;124m\"\u001b[39m\n\u001b[1;32m----> 2\u001b[0m \u001b[38;5;28mprint\u001b[39m(\u001b[38;5;28;43mint\u001b[39;49m\u001b[43m(\u001b[49m\u001b[43ma\u001b[49m\u001b[43m)\u001b[49m)\n",
      "\u001b[1;31mValueError\u001b[0m: invalid literal for int() with base 10: 'as'"
     ]
    }
   ],
   "source": [
    "a = \"as\"\n",
    "print(int(a))"
   ]
  },
  {
   "cell_type": "code",
   "execution_count": 4,
   "id": "6b4d5fc4-d751-459d-86e2-bb22653a25d3",
   "metadata": {},
   "outputs": [],
   "source": [
    "def cus():\n",
    "    return \"asd ft\""
   ]
  },
  {
   "cell_type": "code",
   "execution_count": 5,
   "id": "bc940884-440e-4dcf-8cf6-e4abb83e4735",
   "metadata": {},
   "outputs": [
    {
     "data": {
      "text/plain": [
       "'asd ft'"
      ]
     },
     "execution_count": 5,
     "metadata": {},
     "output_type": "execute_result"
    }
   ],
   "source": []
  },
  {
   "cell_type": "code",
   "execution_count": 30,
   "id": "019e4b3c-6f1b-44d9-93aa-ee15aa14cd10",
   "metadata": {},
   "outputs": [],
   "source": [
    "def ll(*ss):\n",
    "    return ss"
   ]
  },
  {
   "cell_type": "code",
   "execution_count": 31,
   "id": "4d5c3600-c7b3-4374-a98e-68de7f6f8494",
   "metadata": {},
   "outputs": [
    {
     "data": {
      "text/plain": [
       "(5, 5, 'dsafd', 'cd', True)"
      ]
     },
     "execution_count": 31,
     "metadata": {},
     "output_type": "execute_result"
    }
   ],
   "source": [
    "ll(5,5, \"dsafd\", \"cd\", True)"
   ]
  },
  {
   "cell_type": "code",
   "execution_count": 33,
   "id": "6e8efdc7-0078-45de-a90b-0784ce85ea9e",
   "metadata": {},
   "outputs": [],
   "source": [
    "ct = 5"
   ]
  },
  {
   "cell_type": "code",
   "execution_count": null,
   "id": "3797332d-f900-46b9-b420-b36514a6962a",
   "metadata": {},
   "outputs": [],
   "source": []
  }
 ],
 "metadata": {
  "_draft": {
   "nbviewer_url": "https://gist.github.com/c7e48d2b0f85e662ce272c77589a4f43"
  },
  "gist": {
   "data": {
    "description": "ExcelR/Python_Basics.ipynb",
    "public": true
   },
   "id": "c7e48d2b0f85e662ce272c77589a4f43"
  },
  "kernelspec": {
   "display_name": "Python 3 (ipykernel)",
   "language": "python",
   "name": "python3"
  },
  "language_info": {
   "codemirror_mode": {
    "name": "ipython",
    "version": 3
   },
   "file_extension": ".py",
   "mimetype": "text/x-python",
   "name": "python",
   "nbconvert_exporter": "python",
   "pygments_lexer": "ipython3",
   "version": "3.11.0"
  }
 },
 "nbformat": 4,
 "nbformat_minor": 5
}
